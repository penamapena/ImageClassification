{
  "nbformat": 4,
  "nbformat_minor": 0,
  "metadata": {
    "colab": {
      "provenance": []
    },
    "kernelspec": {
      "name": "python3",
      "display_name": "Python 3"
    },
    "language_info": {
      "name": "python"
    }
  },
  "cells": [
    {
      "cell_type": "code",
      "metadata": {
        "colab": {
          "base_uri": "https://localhost:8080/",
          "height": 54
        },
        "id": "p6sxBhWKRUx0",
        "outputId": "c8bc2de1-23bc-49bf-cdf6-73684d456b0a"
      },
      "source": [
        "\"\"\"Nama : Fakhri Maulana\n",
        "   User : penamapena\n",
        "\n",
        "   Dataset: \"MNIST\"\n",
        "   Sumber : https://www.kaggle.com/scolianni/mnistasjpg\n",
        "\"\"\""
      ],
      "execution_count": null,
      "outputs": [
        {
          "output_type": "execute_result",
          "data": {
            "application/vnd.google.colaboratory.intrinsic+json": {
              "type": "string"
            },
            "text/plain": [
              "'Nama : Fakhri Maulana\\n   User : penamapena\\n\\n   Dataset: \"MNIST\"\\n   Sumber : https://www.kaggle.com/scolianni/mnistasjpg\\n'"
            ]
          },
          "metadata": {
            "tags": []
          },
          "execution_count": 86
        }
      ]
    },
    {
      "cell_type": "code",
      "metadata": {
        "id": "uGwH98_HlfIE"
      },
      "source": [
        " ! pip install -q kaggle"
      ],
      "execution_count": null,
      "outputs": []
    },
    {
      "cell_type": "code",
      "metadata": {
        "colab": {
          "resources": {
            "http://localhost:8080/nbextensions/google.colab/files.js": {
              "data": "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",
              "ok": true,
              "headers": [
                [
                  "content-type",
                  "application/javascript"
                ]
              ],
              "status": 200,
              "status_text": "OK"
            }
          },
          "base_uri": "https://localhost:8080/",
          "height": 113
        },
        "id": "xK8uqRx2llSt",
        "outputId": "edb973b3-5da1-48a0-acb3-23a17120602a"
      },
      "source": [
        "from google.colab import files\n",
        "\n",
        "files.upload()"
      ],
      "execution_count": null,
      "outputs": [
        {
          "output_type": "display_data",
          "data": {
            "text/html": [
              "\n",
              "     <input type=\"file\" id=\"files-22455221-0c70-4609-a096-a1dfa1ce56b2\" name=\"files[]\" multiple disabled\n",
              "        style=\"border:none\" />\n",
              "     <output id=\"result-22455221-0c70-4609-a096-a1dfa1ce56b2\">\n",
              "      Upload widget is only available when the cell has been executed in the\n",
              "      current browser session. Please rerun this cell to enable.\n",
              "      </output>\n",
              "      <script src=\"/nbextensions/google.colab/files.js\"></script> "
            ],
            "text/plain": [
              "<IPython.core.display.HTML object>"
            ]
          },
          "metadata": {
            "tags": []
          }
        },
        {
          "output_type": "stream",
          "text": [
            "Saving kaggle.json to kaggle.json\n"
          ],
          "name": "stdout"
        },
        {
          "output_type": "execute_result",
          "data": {
            "text/plain": [
              "{'kaggle.json': b'{\"username\":\"penamapena\",\"key\":\"b2e3bc800422ca4eb5fa28a4ca380720\"}'}"
            ]
          },
          "metadata": {
            "tags": []
          },
          "execution_count": 17
        }
      ]
    },
    {
      "cell_type": "code",
      "metadata": {
        "colab": {
          "base_uri": "https://localhost:8080/"
        },
        "id": "1uTXGMbJlr2F",
        "outputId": "f3b902ae-0835-4f9d-f9a2-9e553b46c652"
      },
      "source": [
        "! mkdir ~/.kaggle\n",
        "\n",
        "! cp kaggle.json ~/.kaggle/"
      ],
      "execution_count": null,
      "outputs": [
        {
          "output_type": "stream",
          "text": [
            "mkdir: cannot create directory ‘/root/.kaggle’: File exists\n"
          ],
          "name": "stdout"
        }
      ]
    },
    {
      "cell_type": "code",
      "metadata": {
        "id": "Dvu_FFBClubl"
      },
      "source": [
        " ! chmod 600 ~/.kaggle/kaggle.json"
      ],
      "execution_count": null,
      "outputs": []
    },
    {
      "cell_type": "code",
      "metadata": {
        "colab": {
          "base_uri": "https://localhost:8080/"
        },
        "id": "zSr2lvuTl0Pt",
        "outputId": "5d242645-7469-4eba-d6c1-ccc25cdec76f"
      },
      "source": [
        "! kaggle datasets list"
      ],
      "execution_count": null,
      "outputs": [
        {
          "output_type": "stream",
          "text": [
            "Warning: Looks like you're using an outdated API Version, please consider updating (server 1.5.12 / client 1.5.4)\n",
            "ref                                                         title                                              size  lastUpdated          downloadCount  \n",
            "----------------------------------------------------------  ------------------------------------------------  -----  -------------------  -------------  \n",
            "gpreda/reddit-vaccine-myths                                 Reddit Vaccine Myths                              234KB  2021-07-20 07:51:04           9619  \n",
            "crowww/a-large-scale-fish-dataset                           A Large Scale Fish Dataset                          3GB  2021-04-28 17:03:01           5865  \n",
            "imsparsh/musicnet-dataset                                   MusicNet Dataset                                   22GB  2021-02-18 14:12:19           2177  \n",
            "dhruvildave/wikibooks-dataset                               Wikibooks Dataset                                   2GB  2021-07-03 18:37:20           2467  \n",
            "promptcloud/careerbuilder-job-listing-2020                  Careerbuilder Job Listing 2020                     42MB  2021-03-05 06:59:52           1416  \n",
            "fatiimaezzahra/famous-iconic-women                          Famous Iconic Women                               838MB  2021-02-28 14:56:00            983  \n",
            "nickuzmenkov/nih-chest-xrays-tfrecords                      NIH Chest X-rays TFRecords                         11GB  2021-03-09 04:49:23            794  \n",
            "alsgroup/end-als                                            End ALS Kaggle Challenge                           12GB  2021-04-08 12:16:37            796  \n",
            "coloradokb/dandelionimages                                  DandelionImages                                     4GB  2021-02-19 20:03:47            693  \n",
            "mathurinache/twitter-edge-nodes                             Twitter Edge Nodes                                342MB  2021-03-08 06:43:04            651  \n",
            "simiotic/github-code-snippets                               GitHub Code Snippets                                7GB  2021-03-03 11:34:39            231  \n",
            "mathurinache/the-lj-speech-dataset                          The LJ Speech Dataset                               3GB  2021-02-15 09:19:54            244  \n",
            "stuartjames/lights                                          LightS: Light Specularity Dataset                  18GB  2021-02-18 14:32:26             95  \n",
            "landrykezebou/lvzhdr-tone-mapping-benchmark-dataset-tmonet  LVZ-HDR Tone Mapping Benchmark Dataset (TMO-Net)   24GB  2021-03-01 05:03:40            162  \n",
            "nickuzmenkov/ranzcr-clip-kfold-tfrecords                    RANZCR CLiP KFold TFRecords                         2GB  2021-02-21 13:29:51            106  \n",
            "imsparsh/accentdb-core-extended                             AccentDB - Core & Extended                          6GB  2021-02-17 14:22:54             96  \n",
            "datasnaek/youtube-new                                       Trending YouTube Video Statistics                 201MB  2019-06-03 00:56:47         145059  \n",
            "zynicide/wine-reviews                                       Wine Reviews                                       51MB  2017-11-27 17:08:04         140570  \n",
            "residentmario/ramen-ratings                                 Ramen Ratings                                      40KB  2018-01-11 16:04:39          25095  \n",
            "datasnaek/chess                                             Chess Game Dataset (Lichess)                        3MB  2017-09-04 03:09:09          20097  \n"
          ],
          "name": "stdout"
        }
      ]
    },
    {
      "cell_type": "code",
      "metadata": {
        "colab": {
          "base_uri": "https://localhost:8080/"
        },
        "id": "fYn07FJTl-sa",
        "outputId": "2a89af24-c43d-4b44-c813-bd4ce710302a"
      },
      "source": [
        "! kaggle datasets download scolianni/mnistasjpg"
      ],
      "execution_count": null,
      "outputs": [
        {
          "output_type": "stream",
          "text": [
            "Downloading mnistasjpg.zip to /content\n",
            " 76% 52.0M/68.4M [00:00<00:00, 66.5MB/s]\n",
            "100% 68.4M/68.4M [00:00<00:00, 99.9MB/s]\n"
          ],
          "name": "stdout"
        }
      ]
    },
    {
      "cell_type": "code",
      "metadata": {
        "id": "MHt30CcUjxYW"
      },
      "source": [
        "!pip install split_folders tqdm\n",
        "\n",
        "import zipfile,os\n",
        "import splitfolders\n",
        "import shutil\n",
        "\n",
        "if ('dataset' in os.listdir('/content')):\n",
        "  shutil.rmtree(os.path.join('/content/dataset'))\n",
        "\n",
        "local_zip = '/content/mnistasjpg.zip'\n",
        "zip_ref = zipfile.ZipFile(local_zip, 'r')\n",
        "zip_ref.extractall('/content/dataset')\n",
        "zip_ref.close()"
      ],
      "execution_count": null,
      "outputs": []
    },
    {
      "cell_type": "code",
      "metadata": {
        "colab": {
          "base_uri": "https://localhost:8080/",
          "height": 36
        },
        "id": "f_EXV_o9p8z7",
        "outputId": "54e70456-b47d-4c47-a263-5190fce9c5ae"
      },
      "source": [
        "import shutil\n",
        "\n",
        "if ('Data-model' in os.listdir('/content/dataset')):\n",
        "  shutil.rmtree(os.path.join('/content/dataset/Data-model'))\n",
        "\n",
        "shutil.move('/content/dataset/trainingSet/trainingSet', '/content/dataset/Data-model/')"
      ],
      "execution_count": null,
      "outputs": [
        {
          "output_type": "execute_result",
          "data": {
            "application/vnd.google.colaboratory.intrinsic+json": {
              "type": "string"
            },
            "text/plain": [
              "'/content/dataset/Data-model/'"
            ]
          },
          "metadata": {
            "tags": []
          },
          "execution_count": 49
        }
      ]
    },
    {
      "cell_type": "code",
      "metadata": {
        "colab": {
          "base_uri": "https://localhost:8080/"
        },
        "id": "jBzpysT1s6G8",
        "outputId": "2f850c35-5345-4c1f-a8a0-3bcdf8a19c72"
      },
      "source": [
        "#Split dataset menjadi 0.8 Train dan 0.2 Validation\n",
        "if ('Data-model' in os.listdir('/content')):\n",
        "  shutil.rmtree(os.path.join('/content/Data-model'))\n",
        "\n",
        "splitfolders.ratio('/content/dataset/Data-model',\n",
        "                    output ='/content/Data-model',\n",
        "                    seed=None, ratio=(0.8,0.2))"
      ],
      "execution_count": null,
      "outputs": [
        {
          "output_type": "stream",
          "text": [
            "Copying files: 42000 files [00:06, 6774.09 files/s]\n"
          ],
          "name": "stderr"
        }
      ]
    },
    {
      "cell_type": "code",
      "metadata": {
        "colab": {
          "base_uri": "https://localhost:8080/"
        },
        "id": "9eNrUJt8tIyU",
        "outputId": "b9bb7858-5cad-481b-af93-943a574869f2"
      },
      "source": [
        "#Mendefenisikan direktori train dan validasi serta menghitung banyak data train dan validasi\n",
        "\n",
        "base_dir = '/content/dataset/Data-model'\n",
        "output_dir = '/content/Data-model'\n",
        "train_dir = os.path.join(output_dir,'train')\n",
        "validation_dir = os.path.join(output_dir, 'val')\n",
        "zero_dir = os.path.join(base_dir,'0')\n",
        "one_dir = os.path.join(base_dir, '1')\n",
        "two_dir = os.path.join(base_dir, '2')\n",
        "three_dir = os.path.join(base_dir,'3')\n",
        "four_dir = os.path.join(base_dir, '4')\n",
        "five_dir = os.path.join(base_dir, '5')\n",
        "six_dir = os.path.join(base_dir,'6')\n",
        "seven_dir = os.path.join(base_dir, '7')\n",
        "eight_dir = os.path.join(base_dir, '8')\n",
        "nine_dir = os.path.join(base_dir, '9')\n",
        "\n",
        "train_zero = os.path.join(train_dir, '0')\n",
        "val_zero = os.path.join(validation_dir, '0')\n",
        "\n",
        "train_one = os.path.join(train_dir, '1')\n",
        "val_one = os.path.join(validation_dir, '1')\n",
        "\n",
        "train_two = os.path.join(train_dir, '2')\n",
        "val_two = os.path.join(validation_dir, '2')\n",
        "\n",
        "train_three = os.path.join(train_dir, '3')\n",
        "val_three = os.path.join(validation_dir, '3')\n",
        "\n",
        "train_four = os.path.join(train_dir, '4')\n",
        "val_four = os.path.join(validation_dir, '4')\n",
        "\n",
        "train_five = os.path.join(train_dir, '5')\n",
        "val_five = os.path.join(validation_dir, '5')\n",
        "\n",
        "train_six = os.path.join(train_dir, '6')\n",
        "val_six = os.path.join(validation_dir, '6')\n",
        "\n",
        "train_seven = os.path.join(train_dir, '7')\n",
        "val_seven = os.path.join(validation_dir, '7')\n",
        "\n",
        "train_eight = os.path.join(train_dir, '8')\n",
        "val_eight = os.path.join(validation_dir, '8')\n",
        "\n",
        "train_nine = os.path.join(train_dir, '9')\n",
        "val_nine = os.path.join(validation_dir, '9')\n",
        "\n",
        "print('\\n')\n",
        "print('Jumlah Gambar 0:', len(os.listdir(zero_dir)))\n",
        "print('Pelatihan:', len(os.listdir(train_zero)))\n",
        "print('Validasi:', len(os.listdir(val_zero)))\n",
        "\n",
        "print('\\n')\n",
        "print('Jumlah Gambar 1:', len(os.listdir(one_dir)))\n",
        "print('Pelatihan:', len(os.listdir(train_one)))\n",
        "print('Validasi:', len(os.listdir(val_one)))\n",
        "\n",
        "print('\\n')\n",
        "print('Jumlah Gambar 2:', len(os.listdir(two_dir)))\n",
        "print('Pelatihan:', len(os.listdir(train_two)))\n",
        "print('Validasi:', len(os.listdir(val_two)))\n",
        "\n",
        "print('\\n')\n",
        "print('Jumlah Gambar 3:', len(os.listdir(three_dir)))\n",
        "print('Pelatihan:', len(os.listdir(train_three)))\n",
        "print('Validasi:', len(os.listdir(val_three)))\n",
        "\n",
        "print('\\n')\n",
        "print('Jumlah Gambar 4:', len(os.listdir(four_dir)))\n",
        "print('Pelatihan:', len(os.listdir(train_four)))\n",
        "print('Validasi:', len(os.listdir(val_four)))\n",
        "\n",
        "print('\\n')\n",
        "print('Jumlah Gambar 5:', len(os.listdir(five_dir)))\n",
        "print('Pelatihan:', len(os.listdir(train_five)))\n",
        "print('Validasi:', len(os.listdir(val_five)))\n",
        "\n",
        "print('\\n')\n",
        "print('Jumlah Gambar 6:', len(os.listdir(six_dir)))\n",
        "print('Pelatihan:', len(os.listdir(train_six)))\n",
        "print('Validasi:', len(os.listdir(val_six)))\n",
        "\n",
        "print('\\n')\n",
        "print('Jumlah Gambar 7:', len(os.listdir(seven_dir)))\n",
        "print('Pelatihan:', len(os.listdir(train_seven)))\n",
        "print('Validasi:', len(os.listdir(val_seven)))\n",
        "\n",
        "print('\\n')\n",
        "print('Jumlah Gambar 8:', len(os.listdir(eight_dir)))\n",
        "print('Pelatihan:', len(os.listdir(train_eight)))\n",
        "print('Validasi:', len(os.listdir(val_eight)))\n",
        "\n",
        "print('\\n')\n",
        "print('Jumlah Gambar 9:', len(os.listdir(nine_dir)))\n",
        "print('Pelatihan:', len(os.listdir(train_nine)))\n",
        "print('Validasi:', len(os.listdir(val_nine)))\n",
        "\n",
        "print('\\n')\n",
        "print('Jumlah Data Training:', len(os.listdir(train_zero))+len(os.listdir(train_one))+len(os.listdir(train_two))\n",
        "                               +len(os.listdir(train_three))+len(os.listdir(train_four))+len(os.listdir(train_five))\n",
        "                               +len(os.listdir(train_six))+len(os.listdir(train_seven))+len(os.listdir(train_eight))\n",
        "                               +len(os.listdir(train_nine)))\n",
        "print('Jumlah Data Validasi:', len(os.listdir(val_zero))+len(os.listdir(val_one))+len(os.listdir(val_two))\n",
        "                               +len(os.listdir(val_three))+len(os.listdir(val_four))+len(os.listdir(val_five))\n",
        "                               +len(os.listdir(val_six))+len(os.listdir(val_seven))+len(os.listdir(val_eight))\n",
        "                               +len(os.listdir(val_nine)))"
      ],
      "execution_count": null,
      "outputs": [
        {
          "output_type": "stream",
          "text": [
            "\n",
            "\n",
            "Jumlah Gambar 0: 4132\n",
            "Pelatihan: 3305\n",
            "Validasi: 827\n",
            "\n",
            "\n",
            "Jumlah Gambar 1: 4684\n",
            "Pelatihan: 3747\n",
            "Validasi: 937\n",
            "\n",
            "\n",
            "Jumlah Gambar 2: 4177\n",
            "Pelatihan: 3341\n",
            "Validasi: 836\n",
            "\n",
            "\n",
            "Jumlah Gambar 3: 4351\n",
            "Pelatihan: 3480\n",
            "Validasi: 871\n",
            "\n",
            "\n",
            "Jumlah Gambar 4: 4072\n",
            "Pelatihan: 3257\n",
            "Validasi: 815\n",
            "\n",
            "\n",
            "Jumlah Gambar 5: 3795\n",
            "Pelatihan: 3036\n",
            "Validasi: 759\n",
            "\n",
            "\n",
            "Jumlah Gambar 6: 4137\n",
            "Pelatihan: 3309\n",
            "Validasi: 828\n",
            "\n",
            "\n",
            "Jumlah Gambar 7: 4401\n",
            "Pelatihan: 3520\n",
            "Validasi: 881\n",
            "\n",
            "\n",
            "Jumlah Gambar 8: 4063\n",
            "Pelatihan: 3250\n",
            "Validasi: 813\n",
            "\n",
            "\n",
            "Jumlah Gambar 9: 4188\n",
            "Pelatihan: 3350\n",
            "Validasi: 838\n",
            "\n",
            "\n",
            "Jumlah Data Training: 33595\n",
            "Jumlah Data Validasi: 8405\n"
          ],
          "name": "stdout"
        }
      ]
    },
    {
      "cell_type": "code",
      "metadata": {
        "colab": {
          "base_uri": "https://localhost:8080/"
        },
        "id": "bv5Rs2_G2k6U",
        "outputId": "01f52736-ca0f-46bc-c236-384e6912c21e"
      },
      "source": [
        "import tensorflow as tf\n",
        "import keras_preprocessing\n",
        "from keras_preprocessing import image\n",
        "from keras_preprocessing.image import ImageDataGenerator\n",
        "\n",
        "train_datagen = ImageDataGenerator(\n",
        "                    rescale=1./255,\n",
        "                    rotation_range=20,\n",
        "                    horizontal_flip=True,\n",
        "                    shear_range = 0.2,\n",
        "                    fill_mode = 'nearest')\n",
        " \n",
        "val_datagen = ImageDataGenerator(\n",
        "                    rescale=1./255,\n",
        "                    rotation_range=20,\n",
        "                    horizontal_flip=True,\n",
        "                    shear_range = 0.2,\n",
        "                    fill_mode = 'nearest')\n",
        "\n",
        "train_generator = train_datagen.flow_from_directory(\n",
        "        train_dir,  #Direktori data train\n",
        "        target_size=(150, 150),  #Mengubah resolusi seluruh gambar menjadi 150x150 piksel\n",
        "        batch_size=4,\n",
        "        class_mode='categorical') #Kelas yang digunakan lebih dari 2\n",
        " \n",
        "val_generator = val_datagen.flow_from_directory(\n",
        "        validation_dir,\n",
        "        target_size=(150, 150), \n",
        "        batch_size=4, \n",
        "        class_mode='categorical')"
      ],
      "execution_count": null,
      "outputs": [
        {
          "output_type": "stream",
          "text": [
            "Found 33595 images belonging to 10 classes.\n",
            "Found 8405 images belonging to 10 classes.\n"
          ],
          "name": "stdout"
        }
      ]
    },
    {
      "cell_type": "code",
      "metadata": {
        "colab": {
          "base_uri": "https://localhost:8080/"
        },
        "id": "8R1I6OU02pfy",
        "outputId": "3e5d23b5-da21-487e-dbbf-39318cb03392"
      },
      "source": [
        "import tensorflow as tf\n",
        "from tensorflow.keras.models import Sequential\n",
        "from tensorflow.keras.layers import Conv2D, MaxPooling2D, Activation, Dense, Flatten\n",
        "from tensorflow.keras.layers import Dropout\n",
        "\n",
        "model = tf.keras.models.Sequential([\n",
        "    # Konvulasi Pertama\n",
        "    tf.keras.layers.Conv2D(64, (3,3), activation='relu', input_shape=(150, 150, 3)),\n",
        "    tf.keras.layers.MaxPooling2D(2, 2),\n",
        "    # Konvulasi Kedua\n",
        "    tf.keras.layers.Conv2D(64, (3,3), activation='relu'),\n",
        "    tf.keras.layers.MaxPooling2D(2,2),\n",
        "    # Konvulasi Ketiga\n",
        "    tf.keras.layers.Conv2D(128, (3,3), activation='relu'),\n",
        "    tf.keras.layers.MaxPooling2D(2,2),\n",
        "    # Jadikan hasil yang sudah diperoleh dalam sebuah DNN\n",
        "    tf.keras.layers.Flatten(),\n",
        "    tf.keras.layers.Dropout(0.5),\n",
        "    # Hidden Layer\n",
        "    tf.keras.layers.Dense(512, activation='relu'),\n",
        "    tf.keras.layers.Dense(10, activation='softmax')\n",
        "])\n",
        "\n",
        "model.summary()"
      ],
      "execution_count": null,
      "outputs": [
        {
          "output_type": "stream",
          "text": [
            "Model: \"sequential_6\"\n",
            "_________________________________________________________________\n",
            "Layer (type)                 Output Shape              Param #   \n",
            "=================================================================\n",
            "conv2d_23 (Conv2D)           (None, 148, 148, 64)      1792      \n",
            "_________________________________________________________________\n",
            "max_pooling2d_23 (MaxPooling (None, 74, 74, 64)        0         \n",
            "_________________________________________________________________\n",
            "conv2d_24 (Conv2D)           (None, 72, 72, 64)        36928     \n",
            "_________________________________________________________________\n",
            "max_pooling2d_24 (MaxPooling (None, 36, 36, 64)        0         \n",
            "_________________________________________________________________\n",
            "conv2d_25 (Conv2D)           (None, 34, 34, 128)       73856     \n",
            "_________________________________________________________________\n",
            "max_pooling2d_25 (MaxPooling (None, 17, 17, 128)       0         \n",
            "_________________________________________________________________\n",
            "flatten_3 (Flatten)          (None, 36992)             0         \n",
            "_________________________________________________________________\n",
            "dropout_6 (Dropout)          (None, 36992)             0         \n",
            "_________________________________________________________________\n",
            "dense_12 (Dense)             (None, 512)               18940416  \n",
            "_________________________________________________________________\n",
            "dense_13 (Dense)             (None, 10)                5130      \n",
            "=================================================================\n",
            "Total params: 19,058,122\n",
            "Trainable params: 19,058,122\n",
            "Non-trainable params: 0\n",
            "_________________________________________________________________\n"
          ],
          "name": "stdout"
        }
      ]
    },
    {
      "cell_type": "code",
      "metadata": {
        "id": "3qKGd4cU3lDW"
      },
      "source": [
        "#Penggunaan Callback \n",
        "class myCallback(tf.keras.callbacks.Callback):\n",
        "  def on_epoch_end(self, epoch, logs={}):\n",
        "    if(logs.get('accuracy')>0.85) and logs.get('val_accuracy')>0.85:\n",
        "      print(\"\\nTrain accuracy dan Validation accuracy > 85%!\")\n",
        "      self.model.stop_training = True\n",
        "callbacks = myCallback()"
      ],
      "execution_count": null,
      "outputs": []
    },
    {
      "cell_type": "code",
      "metadata": {
        "id": "1zF7YTGK4Ecn"
      },
      "source": [
        "from tensorflow.keras.optimizers import Adam\n",
        "Adam(learning_rate=0.00146, name='Adam')\n",
        "\n",
        "model.compile(loss='categorical_crossentropy',\n",
        "              optimizer='Adam',\n",
        "              metrics=['accuracy'])"
      ],
      "execution_count": null,
      "outputs": []
    },
    {
      "cell_type": "code",
      "metadata": {
        "colab": {
          "base_uri": "https://localhost:8080/"
        },
        "id": "FZp_ejiw4Xxb",
        "outputId": "abacc331-95ff-433a-86d6-a8641a03d351"
      },
      "source": [
        "history = model.fit(\n",
        "      train_generator,\n",
        "      steps_per_epoch=32,  #Banyak batch yang akan dieksekusi pada setiap epoch\n",
        "      epochs=100, #Banyak iterasi yang dilakukan jika akurasi model belum optimal\n",
        "      validation_data=val_generator, #Akurasi pengujian data validasi\n",
        "      validation_steps=5,  #Banyak batch yang akan dieksekusi pada setiap epoch\n",
        "      verbose=2,\n",
        "      callbacks=[callbacks])"
      ],
      "execution_count": null,
      "outputs": [
        {
          "output_type": "stream",
          "text": [
            "Epoch 1/100\n",
            "32/32 - 17s - loss: 2.1955 - accuracy: 0.2031 - val_loss: 2.1602 - val_accuracy: 0.2500\n",
            "Epoch 2/100\n",
            "32/32 - 16s - loss: 1.6203 - accuracy: 0.4297 - val_loss: 1.0061 - val_accuracy: 0.7000\n",
            "Epoch 3/100\n",
            "32/32 - 17s - loss: 0.9868 - accuracy: 0.6797 - val_loss: 1.4551 - val_accuracy: 0.4500\n",
            "Epoch 4/100\n",
            "32/32 - 17s - loss: 1.0526 - accuracy: 0.6328 - val_loss: 1.0832 - val_accuracy: 0.7000\n",
            "Epoch 5/100\n",
            "32/32 - 17s - loss: 0.8969 - accuracy: 0.7031 - val_loss: 1.1635 - val_accuracy: 0.7000\n",
            "Epoch 6/100\n",
            "32/32 - 17s - loss: 0.9457 - accuracy: 0.6484 - val_loss: 0.9539 - val_accuracy: 0.7500\n",
            "Epoch 7/100\n",
            "32/32 - 17s - loss: 0.8300 - accuracy: 0.7500 - val_loss: 0.7062 - val_accuracy: 0.8000\n",
            "Epoch 8/100\n",
            "32/32 - 17s - loss: 0.7239 - accuracy: 0.7969 - val_loss: 0.7542 - val_accuracy: 0.7000\n",
            "Epoch 9/100\n",
            "32/32 - 17s - loss: 0.5205 - accuracy: 0.8516 - val_loss: 0.6294 - val_accuracy: 0.7000\n",
            "Epoch 10/100\n",
            "32/32 - 16s - loss: 0.7842 - accuracy: 0.7188 - val_loss: 0.6877 - val_accuracy: 0.6500\n",
            "Epoch 11/100\n",
            "32/32 - 17s - loss: 0.6546 - accuracy: 0.8203 - val_loss: 0.5702 - val_accuracy: 0.7500\n",
            "Epoch 12/100\n",
            "32/32 - 16s - loss: 0.6982 - accuracy: 0.7656 - val_loss: 0.4849 - val_accuracy: 0.8000\n",
            "Epoch 13/100\n",
            "32/32 - 16s - loss: 0.7602 - accuracy: 0.7344 - val_loss: 0.2349 - val_accuracy: 0.9500\n",
            "Epoch 14/100\n",
            "32/32 - 16s - loss: 0.7350 - accuracy: 0.7422 - val_loss: 0.3474 - val_accuracy: 0.9500\n",
            "Epoch 15/100\n",
            "32/32 - 16s - loss: 0.6686 - accuracy: 0.7812 - val_loss: 0.4549 - val_accuracy: 0.8500\n",
            "Epoch 16/100\n",
            "32/32 - 17s - loss: 0.5742 - accuracy: 0.8125 - val_loss: 0.4810 - val_accuracy: 0.8500\n",
            "Epoch 17/100\n",
            "32/32 - 17s - loss: 0.6478 - accuracy: 0.8359 - val_loss: 1.3491 - val_accuracy: 0.5500\n",
            "Epoch 18/100\n",
            "32/32 - 17s - loss: 0.5321 - accuracy: 0.8281 - val_loss: 0.5096 - val_accuracy: 0.8000\n",
            "Epoch 19/100\n",
            "32/32 - 17s - loss: 0.5432 - accuracy: 0.8438 - val_loss: 0.2392 - val_accuracy: 0.9000\n",
            "Epoch 20/100\n",
            "32/32 - 17s - loss: 0.6152 - accuracy: 0.8516 - val_loss: 0.3361 - val_accuracy: 0.9000\n",
            "\n",
            "Train accuracy dan Validation accuracy > 85%!\n"
          ],
          "name": "stdout"
        }
      ]
    },
    {
      "cell_type": "code",
      "metadata": {
        "colab": {
          "base_uri": "https://localhost:8080/",
          "height": 573
        },
        "id": "byOxLQ0Q6819",
        "outputId": "4aa3868b-8faa-4e09-880a-4ac00f17867c"
      },
      "source": [
        "#Plot hasil iterasi dari train dataset\n",
        "import matplotlib.pyplot as plt\n",
        "\n",
        "plt.plot(history.history['accuracy'], label='Training Accuracy', color='blue')\n",
        "plt.plot(history.history['val_accuracy'], label='Validation Accuracy', color='red')\n",
        "plt.title('Accuracy Training & Validation')\n",
        "plt.ylabel('Value')\n",
        "plt.xlabel('Epoch')\n",
        "plt.legend(loc=\"lower right\")\n",
        "plt.show()\n",
        "\n",
        "plt.plot(history.history['loss'], label='Train loss', color='blue')\n",
        "plt.plot(history.history['val_loss'], label='Validation loss', color='red')\n",
        "plt.title('Loss Training & Validation')\n",
        "plt.ylabel('Value')\n",
        "plt.xlabel('Epoch')\n",
        "plt.legend(loc=\"lower right\")\n",
        "plt.show()"
      ],
      "execution_count": null,
      "outputs": [
        {
          "output_type": "display_data",
          "data": {
            "image/png": "[encoded data removed]",
            "text/plain": [
              "<Figure size 432x288 with 1 Axes>"
            ]
          },
          "metadata": {
            "tags": [],
            "needs_background": "light"
          }
        },
        {
          "output_type": "display_data",
          "data": {
            "image/png": "[encoded data removed]",
            "text/plain": [
              "<Figure size 432x288 with 1 Axes>"
            ]
          },
          "metadata": {
            "tags": [],
            "needs_background": "light"
          }
        }
      ]
    },
    {
      "cell_type": "code",
      "metadata": {
        "colab": {
          "base_uri": "https://localhost:8080/"
        },
        "id": "1pFEMN_C7_bv",
        "outputId": "c7c0241e-a1ec-46a5-ebf0-763e2e8f3e3e"
      },
      "source": [
        "#Menghilangkan Warning\n",
        "import warnings\n",
        "warnings.filterwarnings('ignore')\n",
        "\n",
        "#Konversi model.\n",
        "converter = tf.lite.TFLiteConverter.from_keras_model(model)\n",
        "tflite_model = converter.convert()\n",
        "\n",
        "#Menyimpan Model\n",
        "with tf.io.gfile.GFile('model.tflite', 'wb') as f:\n",
        "  f.write(tflite_model)"
      ],
      "execution_count": null,
      "outputs": [
        {
          "output_type": "stream",
          "text": [
            "INFO:tensorflow:Assets written to: /tmp/tmpq1m45gqh/assets\n"
          ],
          "name": "stdout"
        }
      ]
    }
  ]
}